{
 "cells": [
  {
   "cell_type": "markdown",
   "metadata": {},
   "source": [
    "CS 534\n",
    "\n",
    "Problem Set 2\n",
    "\n",
    "Simon Swenson (ID: 113072053)\n",
    "\n",
    "Collaborated with: Subin Sapkota"
   ]
  },
  {
   "cell_type": "markdown",
   "metadata": {},
   "source": [
    "Problem Set 2 (25 pts)\n",
    "\n",
    "Assume the following dataset:\n",
    "\n",
    "|  x1 | x2 | x3 |  x4 | y(Class) |\n",
    "| ---:| --:| --:| ---:| --------:|\n",
    "|   2 |  1 |  1 | 100 |       -1 |\n",
    "| 100 |  1 |  1 |   2 |       -1 |\n",
    "| 100 |  0 |  1 |   2 |       -1 |\n",
    "|   2 |  0 |  0 | 100 |        1 |\n",
    "| 100 |  0 |  1 |   2 |        1 |"
   ]
  },
  {
   "cell_type": "markdown",
   "metadata": {},
   "source": [
    "Q1: (5 points) Define the optimization formulation without slack variables and without vector notation For instance, given:\n",
    "\n",
    "$$ W=\\begin{bmatrix} w_1 \\\\ w_2 \\\\ w_3 \\\\ w_4 \\\\ \\end{bmatrix} $$\n",
    "\n",
    "and $ b $, the constraint for the first example without vector notation is:\n",
    "\n",
    "$$ 2w_1+1w_2+1w_3+100w_4+b\\le-1 $$\n",
    "\n",
    "Please note that also the optimization function should be defined without vector notation."
   ]
  },
  {
   "cell_type": "markdown",
   "metadata": {},
   "source": [
    "A1:\n",
    "\n",
    "Recall that that to maximize the length of the margin, we must minimize $ \\lVert W \\rVert = \\sqrt {w_1^2 + w_2^2 + w_3^2 + w_4^2} $. Since the square root function is monotonically increasing, we can instead minimize $ w_1^2 + w_2^2 + w_3^2 + w_4^2 $. The final form of the optimization function is then:\n",
    "\n",
    "$$ min(w_1^2 + w_2^2 + w_3^2 + w_4^2) $$"
   ]
  },
  {
   "cell_type": "markdown",
   "metadata": {},
   "source": [
    "Q2: (5 points) Please provide the formulation with the slack variables always without vector notation."
   ]
  },
  {
   "cell_type": "markdown",
   "metadata": {},
   "source": [
    "A2:\n",
    "\n",
    "We also want to minimize the slack variables to ensure that we have the least number of outliers and that the outliers aren't too far into the wrong class. Since we don't want to favor the slack variables or $ W $ too much, we must add some scalar multiple $ \\lambda $ to ensure that neither is too favored:\n",
    "\n",
    "$$ min(w_1^2 + w_2^2 + w_3^2 + w_4^2 + \\lambda (s_1 + s_2 + s_3 + s_4 + s_5)) $$"
   ]
  },
  {
   "cell_type": "markdown",
   "metadata": {},
   "source": [
    "Q3: (5 points) Is the formulation with the slack variables needed in this case? If Explain why in both the cases (yes or no)?"
   ]
  },
  {
   "cell_type": "markdown",
   "metadata": {},
   "source": [
    "A3:\n",
    "\n",
    "Slack variables are required in this case because we have outliers. Consider data-points 3 and 5. They both have the same exact feature values but different classes. One of them is an outlier. On the other hand, if the data is completely linearly separable, we would not need slack variables, as the slack variables exist to *push* the outliers back into their respective linear classes."
   ]
  },
  {
   "cell_type": "markdown",
   "metadata": {},
   "source": [
    "Q4: (5 point) Assume you have only these linear separators:\n",
    "\n",
    "- $ H_1 = -2x_2 - x_3 + 2 $\n",
    "- $ H_2 = -2x_2 + 1 $\n",
    "- $ H_3 = 10x_1 + 10x_2 + 100x_3 + 100x_4 - 1000 $\n",
    "- $ H_4 = -4x_2 - x_3 + 3 $\n",
    "\n",
    "What is the best one according the dataset? Explain why the others are not the best one."
   ]
  },
  {
   "cell_type": "markdown",
   "metadata": {},
   "source": [
    "A4:\n",
    "\n",
    "To determine how *good* a separating hyperplane is, we first check the constraints ($ W^{\\bf T}x + b \\ge 1, C(x) = 1 $ and $ W^{\\bf T}x + b \\le -1, C(x) = -1 $):\n",
    "\n",
    "| x index | C(x) | H_1 value | H_2 value | H_3 value | H_4 value |\n",
    "| -------:| ----:| ---------:| ---------:| ---------:| ---------:|\n",
    "|       1 |   -1 |        -1 |        -1 |      9130 |        -2 |\n",
    "|       2 |   -1 |        -1 |        -1 |       310 |        -2 |\n",
    "|       3 |   -1 |         1 |         1 |       300 |         2 |\n",
    "|       4 |    1 |         2 |         1 |      9020 |         3 |\n",
    "|       5 |    1 |         1 |         1 |       300 |         2 |\n",
    "\n",
    "It looks like $ H_1, H_2, H_4 $ all classify 4/5 correctly, whereas $ H_3 $ only classifies 2/5 correctly. The third row looks to be an outlier. To decide between $ H_1, H_2, H_4, $ we use the optimization function above:\n",
    "\n",
    "$$ \\begin{align}\n",
    "    O(W) & = w_1^2 + w_2^2 + w_3^2 + w_4^2 + \\lambda (s_1 + s_2 + s_3 + s_4 + s_5) \\\\\n",
    "    O(H_1) & = 5 + 2 \\lambda \\\\\n",
    "    O(H_2) & = 4 + 2 \\lambda \\\\\n",
    "    O(H_4) & = 17 + 3 \\lambda \\\\\n",
    "\\end{align}$$\n",
    "\n",
    "So, $ H_2 $ appears to be the best classifier."
   ]
  },
  {
   "cell_type": "markdown",
   "metadata": {},
   "source": [
    "Q5: (5 points) Write a python code to\n",
    "\n",
    "- Plot in 2D the dataset\n",
    "- Find a way to obtain the definition (the expression) of the new 2 dimensions in the 2D plot (print them).\n",
    "- For each new dimension discuss the relevance of the original dimensions (x1, x2, x3, and x4).\n",
    "\n",
    "Comment the results."
   ]
  },
  {
   "cell_type": "code",
   "execution_count": 2,
   "metadata": {},
   "outputs": [
    {
     "data": {
      "image/png": "[encoded data removed]",
      "text/plain": [
       "<matplotlib.figure.Figure at 0x7ff62467d588>"
      ]
     },
     "metadata": {},
     "output_type": "display_data"
    },
    {
     "name": "stdout",
     "output_type": "stream",
     "text": [
      "PCA (as a matrix) = [[-7.07101668e-01  1.20253646e-03 -3.60771375e-03  7.07101668e-01]\n",
      " [-4.54016445e-04  8.81675772e-01  4.71855296e-01  4.54016445e-04]]\n",
      "PCA_1 = -0.7071016681876731 * x_1 + 0.0012025364648884374 * x_2 + -0.003607713745579882 * x_3 + 0.7071016681876733 * x_4\n",
      "PCA_2 = -0.0004540164449234451 * x_1 + 0.8816757722223221 * x_2 + 0.4718552960541049 * x_3 + 0.0004540164449414741 * x_4\n"
     ]
    }
   ],
   "source": [
    "import numpy as np\n",
    "import sklearn.decomposition as dc\n",
    "import matplotlib.pyplot as plt\n",
    "X = np.matrix([[2, 1, 1, 100], [100, 1, 1, 2], [100, 0, 1, 2], [2, 0, 0, 100], [100, 0, 1, 2]])\n",
    "y = [-1, -1, -1, 1, 1]\n",
    "\n",
    "# Compute the PCA\n",
    "pca = dc.PCA(2, random_state = 42)\n",
    "X_pca = pca.fit_transform(X)\n",
    "\n",
    "# Plot the PCA, with the first three rows (class = -1) red and the last two rows (class = 1) blue.\n",
    "plt.scatter(X_pca[:3,0], X_pca[:3,1], c = ['red'])\n",
    "plt.scatter(X_pca[3:,0], X_pca[3:,1], c = ['blue'])\n",
    "plt.show()\n",
    "\n",
    "# Get the components of the PCA, then print the result as a linear combination of x values\n",
    "print('PCA (as a matrix) =', pca.components_)\n",
    "print('PCA_1 =', pca.components_[0, 0], '* x_1 +', pca.components_[0, 1], '* x_2 +', pca.components_[0, 2], '* x_3 +', pca.components_[0, 3], '* x_4')\n",
    "print('PCA_2 =', pca.components_[1, 0], '* x_1 +', pca.components_[1, 1], '* x_2 +', pca.components_[1, 2], '* x_3 +', pca.components_[1, 3], '* x_4')"
   ]
  },
  {
   "cell_type": "markdown",
   "metadata": {},
   "source": [
    "As you can see, $ PCA_1 $ depends mostly on $ x_1, x_4 $ (-0.707 and 0.707, respectively, larger coefficient magnitudes), and $ PCA_2 $ depends mostly on $ x_2 $ (0.882, largest coefficient magnitude) and secondarily on $ x_3 $ (0.472, second-largest coefficient magnitude). You can see why this might be the case, as $ x_1, x_4 $ vary much more than $ x_2, x_3 $. in the original dataset. Also, $ x_2 $ varies more than $ x_3 $. Even though $ x_2, x_3 $ have the same range of values, $ x_2 $ is more diverse (3 0's and 2 1's as opposed to 1 0 and 4 1's)."
   ]
  },
  {
   "cell_type": "markdown",
   "metadata": {},
   "source": [
    "Side note: This is why we need to transform the data rows to std-dev = 1, so that no one feature dominates, as right now, feature 1 and 2 dominate because they have values of 100 for some points."
   ]
  }
 ],
 "metadata": {
  "kernelspec": {
   "display_name": "Python 3",
   "language": "python",
   "name": "python3"
  },
  "language_info": {
   "codemirror_mode": {
    "name": "ipython",
    "version": 3
   },
   "file_extension": ".py",
   "mimetype": "text/x-python",
   "name": "python",
   "nbconvert_exporter": "python",
   "pygments_lexer": "ipython3",
   "version": "3.6.4"
  }
 },
 "nbformat": 4,
 "nbformat_minor": 2
}
